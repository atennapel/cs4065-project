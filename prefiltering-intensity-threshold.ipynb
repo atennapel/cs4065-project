{
 "cells": [
  {
   "cell_type": "code",
   "execution_count": 198,
   "metadata": {
    "collapsed": true
   },
   "outputs": [],
   "source": [
    "from __future__ import print_function\n",
    "import numpy as np #for mathematical operations\n",
    "import matplotlib.pyplot as plt #for plotting output\n",
    "import IPython.display #for audio output\n",
    "import librosa #for audio \n",
    "import math\n",
    "from collections import Counter\n",
    "import librosa.display #for visualisation\n",
    "%matplotlib inline \n",
    "\n",
    "#http://ibeat.org/piano-chords-free/\n",
    "#http://biblio.telecom-paristech.fr/cgi-bin/download.cgi?id=10050\n",
    "#https://hal.archives-ouvertes.fr/hal-00656352/document\n",
    "#http://www.nyu.edu/classes/bello/MIR_files/tonality.pdf"
   ]
  },
  {
   "cell_type": "code",
   "execution_count": 259,
   "metadata": {
    "collapsed": false
   },
   "outputs": [],
   "source": [
    "#Load file for chord detection\n",
    "audio_sample = '/home/student/data/cs4065/demo/Hardstyle.mp3'\n",
    "audio_sample_y, audio_sample_sr = librosa.load(audio_sample)\n",
    "y_harmonic, y_percussive = librosa.effects.hpss(audio_sample_y)\n",
    "\n",
    "# Get the duration of the song (float)\n",
    "duration = librosa.get_duration(y=audio_sample_y, sr=audio_sample_sr)"
   ]
  },
  {
   "cell_type": "code",
   "execution_count": 260,
   "metadata": {
    "collapsed": false
   },
   "outputs": [],
   "source": [
    "audio_sample_chroma = librosa.feature.chroma_cqt(y=y_harmonic, sr=audio_sample_sr)\n",
    "\n",
    "# Make a new figure\n",
    "#plt.figure(figsize=(12,4))\n",
    "\n",
    "# Display the chromagram\n",
    "#librosa.display.specshow(audio_sample_chroma, sr=audio_sample_sr, x_axis='time', y_axis='chroma', vmin=0, vmax=1)\n",
    "#plt.title('Chromagram')\n",
    "#plt.colorbar()\n",
    "\n",
    "#plt.tight_layout()"
   ]
  },
  {
   "cell_type": "code",
   "execution_count": 273,
   "metadata": {
    "collapsed": false
   },
   "outputs": [
    {
     "name": "stdout",
     "output_type": "stream",
     "text": [
      "Number of samples per slice 430\n",
      "Number of periods per slice 28\n"
     ]
    }
   ],
   "source": [
    "# The amount of seconds each slice will be put\n",
    "N = 10\n",
    "\n",
    "# The Threshold on which notes will be counted\n",
    "THRESHOLD = 0.9\n",
    "\n",
    "# Transpose chroma so that it becomes [Timeslice][Notes]\n",
    "chroma_transposed = np.transpose(audio_sample_chroma) \n",
    "\n",
    "# Number of samples per 'N' seconds\n",
    "nsamples = int((len(chroma_transposed) / duration) * N)\n",
    "print(\"Number of samples per slice {}\".format(nsamples))\n",
    "\n",
    "#number of periods of 'N' seconds\n",
    "nperiods = int(math.ceil(len(chroma_transposed) / nsamples))\n",
    "print(\"Number of periods per slice {}\".format(nperiods))\n",
    "\n",
    "\n",
    "pstart = 0 #start of the period \n",
    "pend = pstart + nsamples\n",
    "periods = np.zeros((nperiods, nsamples, 12))\n",
    "chroma = np.zeros((nperiods, 12))\n",
    "\n",
    "for i in range(0, nperiods):\n",
    "    chroma[i] = np.array([sum(a) / len(a) for a in zip(*chroma_transposed[pstart:pend])])\n",
    "    for slice in chroma_transposed[pstart:pend]:\n",
    "        for key in range(0, 12):\n",
    "            chroma[i][key] += slice[key] if slice[key] > THRESHOLD else 0\n",
    "    \n",
    "    max = np.amax(chroma[i])\n",
    "    for key in range(0, 12):\n",
    "        chroma[i][key] /= max\n",
    "        \n",
    "    pstart = pend+1\n",
    "    pend = pstart+nsamples"
   ]
  },
  {
   "cell_type": "code",
   "execution_count": 274,
   "metadata": {
    "collapsed": true
   },
   "outputs": [],
   "source": [
    "keys = [{'name': 'C-maj', 'scale': ['A', 'B', 'C', 'D', 'E', 'F', 'G']},\n",
    "        \n",
    "          {'name': 'G-maj', 'scale': ['A', 'B', 'C', 'D', 'E', 'F#/Gb', 'G']},\n",
    "          {'name': 'F-maj', 'scale': ['A', 'A#/Bb', 'C', 'D', 'E', 'F', 'G']},\n",
    "        \n",
    "          {'name': 'D-maj', 'scale': ['A', 'B', 'C#/Db', 'D', 'E', 'F#/Gb', 'G']},\n",
    "          {'name': 'Bb-maj', 'scale': ['A', 'A#/Bb', 'C', 'D', 'D#/Eb', 'F', 'G']},\n",
    "        \n",
    "          {'name': 'A-maj', 'scale': ['A', 'B', 'C#/Db', 'D', 'E', 'F#/Gb', 'G#/Ab']},\n",
    "          {'name': 'Eb-maj', 'scale': ['G#/Ab', 'A#/Bb', 'C', 'D', 'D#/Eb', 'F', 'G']},\n",
    "        \n",
    "          {'name': 'E-maj', 'scale': ['E', 'F#/Gb', 'G#/Ab', 'A', 'B', 'C#/Db', 'D#/Eb']},\n",
    "          {'name': 'Ab-maj', 'scale': ['G#/Ab', 'A#/Bb', 'C', 'C#/Db', 'D#/Eb', 'F', 'G']},\n",
    "        \n",
    "          {'name': 'B-maj', 'scale': ['B', 'C#/Db', 'D#/Eb', 'F', 'F#/Gb', 'G#/Ab', 'A#/Bb']},\n",
    "          {'name': 'C#-maj', 'scale': ['C#/Db', 'D#/Eb', 'F', 'F#/Gb', 'G#/Ab', 'A#/Bb', 'C']},\n",
    "        \n",
    "          {'name': 'F#-maj', 'scale': ['F#/Gb', 'G#/Ab', 'A#/Bb', 'B', 'C#/Db', 'D#/Eb', 'F']}\n",
    "         ]"
   ]
  },
  {
   "cell_type": "code",
   "execution_count": 275,
   "metadata": {
    "collapsed": true
   },
   "outputs": [],
   "source": [
    "def NoteToNumber(note):\n",
    "    if note == 'C':\n",
    "        return 0\n",
    "    elif note == 'C#/Db':\n",
    "        return 1\n",
    "    elif note == 'D':\n",
    "        return 2\n",
    "    elif note == 'D#/Eb':\n",
    "        return 3\n",
    "    elif note == 'E':\n",
    "        return 4\n",
    "    elif note == 'F':\n",
    "        return 5\n",
    "    elif note == 'F#/Gb':\n",
    "        return 6\n",
    "    elif note == 'G':\n",
    "        return 7\n",
    "    elif note == 'G#/Ab':\n",
    "        return 8\n",
    "    elif note == 'A':\n",
    "        return 9\n",
    "    elif note == 'A#/Bb':\n",
    "        return 10\n",
    "    elif note == 'B':\n",
    "        return 11"
   ]
  },
  {
   "cell_type": "code",
   "execution_count": 276,
   "metadata": {
    "collapsed": false
   },
   "outputs": [
    {
     "name": "stdout",
     "output_type": "stream",
     "text": [
      "Eb-maj\n",
      "[ 0.20313124  0.05481764  0.05961667  0.07512515  0.15462865  0.29168593\n",
      "  0.48969926  1.          0.64882144  0.22771744  0.21335903  0.29775271]\n",
      "Ab-maj\n",
      "[ 0.03698919  0.01022684  0.01006357  0.0326395   0.08470312  0.42101042\n",
      "  0.43232608  1.          0.53265399  0.28367775  0.05805477  0.19703102]\n",
      "Ab-maj\n",
      "[ 0.08525631  0.0390205   0.02743507  0.0092284   0.01481121  0.0568181\n",
      "  0.04171897  1.          0.24982496  0.03029671  0.01497149  0.09529265]\n",
      "Ab-maj\n",
      "[  2.83942957e-04   2.85927337e-04   2.85810175e-04   3.27218261e-04\n",
      "   2.77028289e-03   1.22768920e-02   4.49740296e-02   1.00000000e+00\n",
      "   2.04437209e-01   8.14800594e-04   5.32137982e-04   2.52807435e-04]\n",
      "Eb-maj\n",
      "[  2.96036277e-04   3.46368691e-04   2.79609285e-03   3.72153910e-04\n",
      "   4.39967742e-04   1.45223713e-02   7.90261005e-02   1.00000000e+00\n",
      "   2.36980756e-01   8.62904904e-04   5.42473749e-04   2.76940745e-04]\n",
      "Eb-maj\n",
      "[  2.28694666e-02   1.53468758e-02   2.75711012e-02   9.80802245e-03\n",
      "   1.28680637e-02   1.30083325e-02   7.79656938e-02   1.00000000e+00\n",
      "   2.22322854e-01   5.86689383e-03   5.89271071e-04   2.63674031e-03]\n",
      "G-maj\n",
      "[ 0.40771774  0.02380098  0.02881021  0.00998528  0.04326979  0.11324369\n",
      "  0.13343709  0.612799    0.22723162  0.10659989  0.25703875  1.        ]\n",
      "Eb-maj\n",
      "[  7.71655096e-04   7.51814194e-04   8.82579802e-04   1.32644036e-02\n",
      "   9.13837473e-02   1.03773767e-01   1.87017355e-01   1.00000000e+00\n",
      "   4.40550335e-01   3.18012402e-02   1.90114050e-02   7.62328628e-04]\n",
      "Eb-maj\n",
      "[  7.27524283e-03   8.94590023e-04   3.41042111e-02   4.07977471e-02\n",
      "   2.43423561e-02   3.39907472e-02   2.08892138e-01   1.00000000e+00\n",
      "   7.14881388e-01   8.86037706e-02   1.09921421e-02   9.04515634e-04]\n",
      "B-maj\n",
      "[ 0.12366193  0.02149743  0.01647825  0.06218555  0.1652865   0.17962213\n",
      "  0.49691063  0.32761267  0.28643984  0.29262185  0.71311114  1.        ]\n",
      "B-maj\n",
      "[ 0.0260827   0.01444887  0.00770575  0.00224085  0.16462295  0.22438093\n",
      "  0.87228563  0.72786171  0.22421267  0.38198966  1.          0.54915916]\n",
      "G-maj\n",
      "[ 0.29402472  0.0087396   0.00186065  0.00209884  0.3024753   0.24556963\n",
      "  0.68490198  0.44208544  0.27530814  0.52514411  1.          0.76261837]\n",
      "G-maj\n",
      "[ 0.41754752  0.0173812   0.01745278  0.10978264  0.63171616  0.48625995\n",
      "  0.70800004  0.71115936  0.29647597  0.46918991  0.27867041  1.        ]\n",
      "G-maj\n",
      "[ 0.56419959  0.06071163  0.02656124  0.05039379  0.10599901  0.09867265\n",
      "  0.53978628  0.52123045  0.16372262  0.09972216  0.12621772  1.        ]\n",
      "G-maj\n",
      "[ 0.31717403  0.01767924  0.00136305  0.00104492  0.02741477  0.04375727\n",
      "  0.55149508  0.53009677  0.18274505  0.24292609  0.19536741  1.        ]\n",
      "G-maj\n",
      "[  3.97160642e-01   1.40155720e-01   8.40147166e-03   9.71293462e-04\n",
      "   4.83027708e-02   1.23116251e-02   1.59475004e-01   1.18308089e-01\n",
      "   1.97680578e-02   1.30817048e-01   1.89879568e-01   1.00000000e+00]\n",
      "G-maj\n",
      "[  2.35596971e-01   1.14362599e-02   8.95110067e-04   7.68260539e-04\n",
      "   7.90036189e-04   2.17012541e-02   2.90422084e-01   6.69346714e-01\n",
      "   1.39135339e-01   3.95104321e-01   7.00496621e-02   1.00000000e+00]\n",
      "G-maj\n",
      "[  1.21327978e-01   8.69968479e-04   7.07885551e-04   6.70265934e-04\n",
      "   7.25816955e-04   3.66325700e-02   3.61281205e-01   1.00000000e+00\n",
      "   1.92336445e-01   1.88448515e-01   5.03816270e-02   4.43022672e-01]\n",
      "G-maj\n",
      "[  4.38050381e-01   5.68547069e-03   8.56462248e-04   7.28704235e-04\n",
      "   7.07982477e-04   9.56482822e-04   6.14008063e-02   5.86795685e-01\n",
      "   1.48317245e-01   1.87238109e-01   1.87620051e-01   1.00000000e+00]\n",
      "G-maj\n",
      "[ 0.37298586  0.04030267  0.02521038  0.00677573  0.01911504  0.01555206\n",
      "  0.09799034  0.04270766  0.01934368  0.08483686  0.10611601  1.        ]\n",
      "G-maj\n",
      "[  1.25777964e-01   9.90690779e-04   7.47914743e-04   7.28562893e-04\n",
      "   7.32577860e-04   2.17975399e-02   3.04654886e-01   1.00000000e+00\n",
      "   2.16088089e-01   3.82044699e-01   9.87835344e-02   6.45958844e-01]\n",
      "G-maj\n",
      "[  2.21917961e-01   1.38049371e-03   1.04620139e-03   9.23440088e-04\n",
      "   9.84350156e-04   8.02912492e-02   3.80931988e-01   1.00000000e+00\n",
      "   1.66214488e-01   2.08812975e-01   1.68782732e-01   9.62716482e-01]\n",
      "G-maj\n",
      "[ 0.38132452  0.02767273  0.02656402  0.01147806  0.01714353  0.03755415\n",
      "  0.20182966  0.68164852  0.18628784  0.42064345  0.29250911  1.        ]\n",
      "G-maj\n",
      "[ 0.26794345  0.05826125  0.04511661  0.00812461  0.3162453   0.01480271\n",
      "  0.1128316   0.48903203  0.44486103  0.54683036  0.08267698  1.        ]\n",
      "Eb-maj\n",
      "[ 0.01015179  0.00995935  0.01654526  0.00958004  0.03395129  0.03208479\n",
      "  0.19206664  1.          0.57671611  0.07437533  0.00425763  0.00381539]\n",
      "Eb-maj\n",
      "[  2.30623552e-04   2.52009295e-04   2.68748736e-04   3.03207809e-04\n",
      "   3.20931328e-04   2.82578401e-03   3.55600044e-02   1.00000000e+00\n",
      "   1.90543764e-01   7.92041499e-04   5.04553946e-04   2.19849779e-04]\n",
      "Eb-maj\n",
      "[  2.77434856e-04   3.03361506e-04   3.09831571e-04   3.52887663e-04\n",
      "   2.82115412e-03   1.48597496e-02   6.44443633e-02   1.00000000e+00\n",
      "   2.23796540e-01   8.61775659e-04   5.53472458e-04   2.66345364e-04]\n",
      "Eb-maj\n",
      "[  2.90392263e-04   3.17019565e-04   5.24786675e-03   2.72571891e-03\n",
      "   4.21817280e-04   7.77494699e-03   6.94102511e-02   1.00000000e+00\n",
      "   2.09599181e-01   3.13401712e-03   5.40742901e-04   2.71035273e-04]\n"
     ]
    },
    {
     "data": {
      "text/plain": [
       "[('G-maj', 14), ('Eb-maj', 9), ('Ab-maj', 3), ('B-maj', 2)]"
      ]
     },
     "execution_count": 276,
     "metadata": {},
     "output_type": "execute_result"
    }
   ],
   "source": [
    "results = []\n",
    "for slice in chroma:\n",
    "    \n",
    "\n",
    "    best_score = -100\n",
    "    best_key = {'name': 'C-maj', 'scale': ['A', 'B', 'C', 'D', 'E', 'F', 'G']}\n",
    "    \n",
    "    for key in keys:\n",
    "        score = 0\n",
    "        for note in ['C', 'C#/Db', 'D', 'D#/Eb', 'E', 'F', 'F#/Gb', 'G', 'G#/Ab', 'A', 'A#/Bb', 'B']:\n",
    "            intensity = slice[NoteToNumber(note)]*10\n",
    "            if note in key['scale']:\n",
    "                score += intensity\n",
    "            else:\n",
    "                score -= intensity\n",
    "\n",
    "        if score > best_score:\n",
    "            best_score = score\n",
    "            best_key = key\n",
    "            \n",
    "    print(best_key['name'])\n",
    "    print(slice)\n",
    "    results += {best_key['name']}\n",
    "\n",
    "Counter(results).most_common()"
   ]
  },
  {
   "cell_type": "code",
   "execution_count": null,
   "metadata": {
    "collapsed": true
   },
   "outputs": [],
   "source": []
  },
  {
   "cell_type": "code",
   "execution_count": null,
   "metadata": {
    "collapsed": true
   },
   "outputs": [],
   "source": []
  }
 ],
 "metadata": {
  "kernelspec": {
   "display_name": "Python 2",
   "language": "python",
   "name": "python2"
  },
  "language_info": {
   "codemirror_mode": {
    "name": "ipython",
    "version": 2
   },
   "file_extension": ".py",
   "mimetype": "text/x-python",
   "name": "python",
   "nbconvert_exporter": "python",
   "pygments_lexer": "ipython2",
   "version": "2.7.12"
  }
 },
 "nbformat": 4,
 "nbformat_minor": 0
}
